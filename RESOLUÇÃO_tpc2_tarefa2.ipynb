{
 "cells": [
  {
   "cell_type": "markdown",
   "metadata": {},
   "source": [
    "## TPC2 tarefa 2 - Python"
   ]
  },
  {
   "cell_type": "code",
   "execution_count": 44,
   "metadata": {},
   "outputs": [],
   "source": [
    "import csv\n",
    "import numpy as np\n",
    "import pandas as pd\n",
    "pd.set_option('display.min_rows', 20)\n",
    "import matplotlib.pyplot as plt\n",
    "%matplotlib inline"
   ]
  },
  {
   "cell_type": "code",
   "execution_count": 45,
   "metadata": {},
   "outputs": [],
   "source": [
    "# For compatibility across multiple platforms\n",
    "import os\n",
    "IB = os.environ.get('INSTABASE_URI',None) is not None\n",
    "open = ib.open if IB else open"
   ]
  },
  {
   "cell_type": "markdown",
   "metadata": {},
   "source": [
    "### <font color = 'green'>World Cup with Pandas</font>\n",
    "Solve the problems using the data in Pandas dataframes."
   ]
  },
  {
   "cell_type": "code",
   "execution_count": 46,
   "metadata": {},
   "outputs": [],
   "source": [
    "# Read the Players and Teams data into dataframes\n",
    "playersDF = pd.read_csv('Players.csv')\n",
    "teamsDF = pd.read_csv('Teams.csv')"
   ]
  },
  {
   "cell_type": "code",
   "execution_count": 47,
   "metadata": {},
   "outputs": [
    {
     "data": {
      "text/html": [
       "<div>\n",
       "<style scoped>\n",
       "    .dataframe tbody tr th:only-of-type {\n",
       "        vertical-align: middle;\n",
       "    }\n",
       "\n",
       "    .dataframe tbody tr th {\n",
       "        vertical-align: top;\n",
       "    }\n",
       "\n",
       "    .dataframe thead th {\n",
       "        text-align: right;\n",
       "    }\n",
       "</style>\n",
       "<table border=\"1\" class=\"dataframe\">\n",
       "  <thead>\n",
       "    <tr style=\"text-align: right;\">\n",
       "      <th></th>\n",
       "      <th>surname</th>\n",
       "      <th>team</th>\n",
       "      <th>position</th>\n",
       "      <th>minutes</th>\n",
       "      <th>shots</th>\n",
       "      <th>passes</th>\n",
       "      <th>tackles</th>\n",
       "      <th>saves</th>\n",
       "    </tr>\n",
       "  </thead>\n",
       "  <tbody>\n",
       "    <tr>\n",
       "      <th>0</th>\n",
       "      <td>Abdoun</td>\n",
       "      <td>Algeria</td>\n",
       "      <td>midfielder</td>\n",
       "      <td>16</td>\n",
       "      <td>0</td>\n",
       "      <td>6</td>\n",
       "      <td>0</td>\n",
       "      <td>0</td>\n",
       "    </tr>\n",
       "    <tr>\n",
       "      <th>1</th>\n",
       "      <td>Belhadj</td>\n",
       "      <td>Algeria</td>\n",
       "      <td>defender</td>\n",
       "      <td>270</td>\n",
       "      <td>1</td>\n",
       "      <td>146</td>\n",
       "      <td>8</td>\n",
       "      <td>0</td>\n",
       "    </tr>\n",
       "    <tr>\n",
       "      <th>2</th>\n",
       "      <td>Boudebouz</td>\n",
       "      <td>Algeria</td>\n",
       "      <td>midfielder</td>\n",
       "      <td>74</td>\n",
       "      <td>3</td>\n",
       "      <td>28</td>\n",
       "      <td>1</td>\n",
       "      <td>0</td>\n",
       "    </tr>\n",
       "    <tr>\n",
       "      <th>3</th>\n",
       "      <td>Bougherra</td>\n",
       "      <td>Algeria</td>\n",
       "      <td>defender</td>\n",
       "      <td>270</td>\n",
       "      <td>1</td>\n",
       "      <td>89</td>\n",
       "      <td>11</td>\n",
       "      <td>0</td>\n",
       "    </tr>\n",
       "    <tr>\n",
       "      <th>4</th>\n",
       "      <td>Chaouchi</td>\n",
       "      <td>Algeria</td>\n",
       "      <td>goalkeeper</td>\n",
       "      <td>90</td>\n",
       "      <td>0</td>\n",
       "      <td>17</td>\n",
       "      <td>0</td>\n",
       "      <td>2</td>\n",
       "    </tr>\n",
       "  </tbody>\n",
       "</table>\n",
       "</div>"
      ],
      "text/plain": [
       "     surname     team    position  minutes  shots  passes  tackles  saves\n",
       "0     Abdoun  Algeria  midfielder       16      0       6        0      0\n",
       "1    Belhadj  Algeria    defender      270      1     146        8      0\n",
       "2  Boudebouz  Algeria  midfielder       74      3      28        1      0\n",
       "3  Bougherra  Algeria    defender      270      1      89       11      0\n",
       "4   Chaouchi  Algeria  goalkeeper       90      0      17        0      2"
      ]
     },
     "execution_count": 47,
     "metadata": {},
     "output_type": "execute_result"
    }
   ],
   "source": [
    "playersDF.head()"
   ]
  },
  {
   "cell_type": "code",
   "execution_count": 48,
   "metadata": {},
   "outputs": [
    {
     "data": {
      "text/html": [
       "<div>\n",
       "<style scoped>\n",
       "    .dataframe tbody tr th:only-of-type {\n",
       "        vertical-align: middle;\n",
       "    }\n",
       "\n",
       "    .dataframe tbody tr th {\n",
       "        vertical-align: top;\n",
       "    }\n",
       "\n",
       "    .dataframe thead th {\n",
       "        text-align: right;\n",
       "    }\n",
       "</style>\n",
       "<table border=\"1\" class=\"dataframe\">\n",
       "  <thead>\n",
       "    <tr style=\"text-align: right;\">\n",
       "      <th></th>\n",
       "      <th>team</th>\n",
       "      <th>ranking</th>\n",
       "      <th>games</th>\n",
       "      <th>wins</th>\n",
       "      <th>draws</th>\n",
       "      <th>losses</th>\n",
       "      <th>goalsFor</th>\n",
       "      <th>goalsAgainst</th>\n",
       "      <th>yellowCards</th>\n",
       "      <th>redCards</th>\n",
       "    </tr>\n",
       "  </thead>\n",
       "  <tbody>\n",
       "    <tr>\n",
       "      <th>0</th>\n",
       "      <td>Brazil</td>\n",
       "      <td>1</td>\n",
       "      <td>5</td>\n",
       "      <td>3</td>\n",
       "      <td>1</td>\n",
       "      <td>1</td>\n",
       "      <td>9</td>\n",
       "      <td>4</td>\n",
       "      <td>7</td>\n",
       "      <td>2</td>\n",
       "    </tr>\n",
       "    <tr>\n",
       "      <th>1</th>\n",
       "      <td>Spain</td>\n",
       "      <td>2</td>\n",
       "      <td>6</td>\n",
       "      <td>5</td>\n",
       "      <td>0</td>\n",
       "      <td>1</td>\n",
       "      <td>7</td>\n",
       "      <td>2</td>\n",
       "      <td>3</td>\n",
       "      <td>0</td>\n",
       "    </tr>\n",
       "    <tr>\n",
       "      <th>2</th>\n",
       "      <td>Portugal</td>\n",
       "      <td>3</td>\n",
       "      <td>4</td>\n",
       "      <td>1</td>\n",
       "      <td>2</td>\n",
       "      <td>1</td>\n",
       "      <td>7</td>\n",
       "      <td>1</td>\n",
       "      <td>8</td>\n",
       "      <td>1</td>\n",
       "    </tr>\n",
       "    <tr>\n",
       "      <th>3</th>\n",
       "      <td>Netherlands</td>\n",
       "      <td>4</td>\n",
       "      <td>6</td>\n",
       "      <td>6</td>\n",
       "      <td>0</td>\n",
       "      <td>0</td>\n",
       "      <td>12</td>\n",
       "      <td>5</td>\n",
       "      <td>15</td>\n",
       "      <td>0</td>\n",
       "    </tr>\n",
       "    <tr>\n",
       "      <th>4</th>\n",
       "      <td>Italy</td>\n",
       "      <td>5</td>\n",
       "      <td>3</td>\n",
       "      <td>0</td>\n",
       "      <td>2</td>\n",
       "      <td>1</td>\n",
       "      <td>4</td>\n",
       "      <td>5</td>\n",
       "      <td>5</td>\n",
       "      <td>0</td>\n",
       "    </tr>\n",
       "  </tbody>\n",
       "</table>\n",
       "</div>"
      ],
      "text/plain": [
       "          team  ranking  games  wins  draws  losses  goalsFor  goalsAgainst  \\\n",
       "0       Brazil        1      5     3      1       1         9             4   \n",
       "1        Spain        2      6     5      0       1         7             2   \n",
       "2     Portugal        3      4     1      2       1         7             1   \n",
       "3  Netherlands        4      6     6      0       0        12             5   \n",
       "4        Italy        5      3     0      2       1         4             5   \n",
       "\n",
       "   yellowCards  redCards  \n",
       "0            7         2  \n",
       "1            3         0  \n",
       "2            8         1  \n",
       "3           15         0  \n",
       "4            5         0  "
      ]
     },
     "execution_count": 48,
     "metadata": {},
     "output_type": "execute_result"
    }
   ],
   "source": [
    "teamsDF.head()"
   ]
  },
  {
   "cell_type": "code",
   "execution_count": 49,
   "metadata": {},
   "outputs": [
    {
     "name": "stdout",
     "output_type": "stream",
     "text": [
      "431    Kuzmanovic\n",
      "Name: surname, dtype: object\n"
     ]
    }
   ],
   "source": [
    "#Qual jogador (print do ultimo nome) de uma equipa com \"ia\" no nome, \n",
    "#que jogou menos de 200 minutos e fez mais de 100 passes?\n",
    "\n",
    "# 1 - Criar dataframe onde constam apenas equipas com \"ia\" no nome, através do método str.contains()\n",
    "equipasDF = playersDF[playersDF['team'].str.contains('ia')]\n",
    "\n",
    "# 2 - Do dataframe anterior, fazer o slicing dos jogadores com menos de 200 minutos e mais de 100 passes \n",
    "jogadorDF = equipasDF[(equipasDF['minutes'] < 200) & (equipasDF['passes'] > 100)]\n",
    "\n",
    "# 3 - Extrair o último nome do jogador, a partir da coluna 'surname' do dataframe anterior\n",
    "jogador_nome = jogadorDF['surname']\n",
    "\n",
    "# 4 - Fazer o print do resultado\n",
    "print(jogador_nome)"
   ]
  },
  {
   "cell_type": "code",
   "execution_count": 50,
   "metadata": {},
   "outputs": [
    {
     "name": "stdout",
     "output_type": "stream",
     "text": [
      "50.82517482517483\n",
      "95.2719298245614\n"
     ]
    }
   ],
   "source": [
    "# Qual é o número médio de passes feitos pelos avançados? Pelos meio-campistas?\n",
    "# Verifique se a resposta especifica qual é qual e não inclua outras\n",
    "# posições no seu resultado.\n",
    "\n",
    "# 1 - Fazer o slicing dos jogadores cuja posição é avançado ('forward') e médio ('midfielder')\n",
    "avançadosDF = playersDF[playersDF['position'] == 'forward']\n",
    "meio_campistasDF = playersDF[playersDF['position'] == 'midfielder']\n",
    "\n",
    "# 2 - Fazer a média dos passes dos avançados e médios, dos dataframes anteriores, através do método mean()\n",
    "passes_avançados = avançadosDF['passes'].mean()\n",
    "passes_meio_campistas = meio_campistasDF['passes'].mean()\n",
    "\n",
    "# 3 - Fazer o print dos resultados\n",
    "print(passes_avançados)\n",
    "print(passes_meio_campistas)"
   ]
  },
  {
   "cell_type": "code",
   "execution_count": 51,
   "metadata": {},
   "outputs": [
    {
     "data": {
      "text/plain": [
       "2    Portugal\n",
       "Name: team, dtype: object"
      ]
     },
     "execution_count": 51,
     "metadata": {},
     "output_type": "execute_result"
    }
   ],
   "source": [
    "# Qual equipe tem a maior relação (razão, racio, etc) de goalsFor versus goalsAgainst?\n",
    "# Imprima apenas o nome da equipa.\n",
    "# Dica: adicione uma coluna \"racio\" ao dataframe das equipas e, depois, faça o seu \"sort\" e, \n",
    "# em seguida, use a head(1) ou tail(1) ...\n",
    "\n",
    "# 1 - Inserir a coluna \"racio\", através do método insert(), que faz a divisão entre goalsFor e goalsAgainst\n",
    "teamsDF.insert(8, 'racio', teamsDF['goalsFor'] / teamsDF['goalsAgainst'])\n",
    "\n",
    "# 2 - Ordenar os valores pelo racio, através do método sort_values()\n",
    "# 3 - Selecionar do dataframe ordenado a primeira equipa, através do método head()\n",
    "teamsDF.sort_values(by = 'racio', axis = 0, ascending = False, inplace = False)['team'].head(1)"
   ]
  },
  {
   "cell_type": "code",
   "execution_count": 92,
   "metadata": {},
   "outputs": [
    {
     "data": {
      "text/plain": [
       "54"
      ]
     },
     "execution_count": 92,
     "metadata": {},
     "output_type": "execute_result"
    }
   ],
   "source": [
    "# Quantos jogadores que jogam numa equipa com ranking <10, \n",
    "# jogaram mais de 350 minutos?\n",
    "# Lembrete: len() fornece o número de linhas que um dataframe contém\n",
    "\n",
    "# 1 - Fundir os dataframes 'playersDF' e 'teamsDF', através do método pd.merge(), com base na coluna em comum 'team'\n",
    "globalDF = pd.merge(playersDF, teamsDF, on=['team'], how='inner')\n",
    "\n",
    "# 2 - Do dataframe global, fazer o slicing dos jogadores com equipa de ranking < 10 e com mais de 350 minutos\n",
    "jogadoresDF = globalDF[(globalDF['ranking'] < 10) & (globalDF['minutes'] > 350)]\n",
    "\n",
    "# 3 - Contar o número de resultados\n",
    "len(jogadoresDF)"
   ]
  },
  {
   "cell_type": "markdown",
   "metadata": {},
   "source": [
    "### <font color = 'green'>Titanic with Pandas</font>\n",
    "Solve the problems using the data in Pandas dataframe."
   ]
  },
  {
   "cell_type": "code",
   "execution_count": 53,
   "metadata": {},
   "outputs": [
    {
     "data": {
      "text/html": [
       "<div>\n",
       "<style scoped>\n",
       "    .dataframe tbody tr th:only-of-type {\n",
       "        vertical-align: middle;\n",
       "    }\n",
       "\n",
       "    .dataframe tbody tr th {\n",
       "        vertical-align: top;\n",
       "    }\n",
       "\n",
       "    .dataframe thead th {\n",
       "        text-align: right;\n",
       "    }\n",
       "</style>\n",
       "<table border=\"1\" class=\"dataframe\">\n",
       "  <thead>\n",
       "    <tr style=\"text-align: right;\">\n",
       "      <th></th>\n",
       "      <th>last</th>\n",
       "      <th>first</th>\n",
       "      <th>gender</th>\n",
       "      <th>age</th>\n",
       "      <th>class</th>\n",
       "      <th>fare</th>\n",
       "      <th>embarked</th>\n",
       "      <th>survived</th>\n",
       "    </tr>\n",
       "  </thead>\n",
       "  <tbody>\n",
       "    <tr>\n",
       "      <th>0</th>\n",
       "      <td>Braund</td>\n",
       "      <td>Mr. Owen Harris</td>\n",
       "      <td>M</td>\n",
       "      <td>22.0</td>\n",
       "      <td>3</td>\n",
       "      <td>7.2500</td>\n",
       "      <td>Southampton</td>\n",
       "      <td>no</td>\n",
       "    </tr>\n",
       "    <tr>\n",
       "      <th>1</th>\n",
       "      <td>Cumings</td>\n",
       "      <td>Mrs. John Bradley (Florence Briggs Thayer)</td>\n",
       "      <td>F</td>\n",
       "      <td>38.0</td>\n",
       "      <td>1</td>\n",
       "      <td>71.2833</td>\n",
       "      <td>Cherbourg</td>\n",
       "      <td>yes</td>\n",
       "    </tr>\n",
       "    <tr>\n",
       "      <th>2</th>\n",
       "      <td>Heikkinen</td>\n",
       "      <td>Miss Laina</td>\n",
       "      <td>F</td>\n",
       "      <td>26.0</td>\n",
       "      <td>3</td>\n",
       "      <td>7.9250</td>\n",
       "      <td>Southampton</td>\n",
       "      <td>yes</td>\n",
       "    </tr>\n",
       "    <tr>\n",
       "      <th>3</th>\n",
       "      <td>Futrelle</td>\n",
       "      <td>Mrs. Jacques Heath (Lily May Peel)</td>\n",
       "      <td>F</td>\n",
       "      <td>35.0</td>\n",
       "      <td>1</td>\n",
       "      <td>53.1000</td>\n",
       "      <td>Southampton</td>\n",
       "      <td>yes</td>\n",
       "    </tr>\n",
       "    <tr>\n",
       "      <th>4</th>\n",
       "      <td>Allen</td>\n",
       "      <td>Mr. William Henry</td>\n",
       "      <td>M</td>\n",
       "      <td>35.0</td>\n",
       "      <td>3</td>\n",
       "      <td>8.0500</td>\n",
       "      <td>Southampton</td>\n",
       "      <td>no</td>\n",
       "    </tr>\n",
       "  </tbody>\n",
       "</table>\n",
       "</div>"
      ],
      "text/plain": [
       "        last                                       first gender   age  class  \\\n",
       "0     Braund                             Mr. Owen Harris      M  22.0      3   \n",
       "1    Cumings  Mrs. John Bradley (Florence Briggs Thayer)      F  38.0      1   \n",
       "2  Heikkinen                                  Miss Laina      F  26.0      3   \n",
       "3   Futrelle          Mrs. Jacques Heath (Lily May Peel)      F  35.0      1   \n",
       "4      Allen                           Mr. William Henry      M  35.0      3   \n",
       "\n",
       "      fare     embarked survived  \n",
       "0   7.2500  Southampton       no  \n",
       "1  71.2833    Cherbourg      yes  \n",
       "2   7.9250  Southampton      yes  \n",
       "3  53.1000  Southampton      yes  \n",
       "4   8.0500  Southampton       no  "
      ]
     },
     "execution_count": 53,
     "metadata": {},
     "output_type": "execute_result"
    }
   ],
   "source": [
    "# Read the Titanic data into a dataframe\n",
    "titanicDF = pd.read_csv('Titanic.csv')\n",
    "titanicDF.head()"
   ]
  },
  {
   "cell_type": "code",
   "execution_count": 93,
   "metadata": {},
   "outputs": [
    {
     "data": {
      "text/plain": [
       "33"
      ]
     },
     "execution_count": 93,
     "metadata": {},
     "output_type": "execute_result"
    }
   ],
   "source": [
    "# Quantas mulheres casadas embarcaram em Cherbourg?\n",
    "# Nota: 'first' é uma função no Pandas, então 'titanic.first' irá gerar um erro;\n",
    "# use 'titanic[' first ']\n",
    "\n",
    "# 1 - Criar dataframe onde constam apenas nomes de mulheres casadas (\"Mrs.\"), através do método str.contains()\n",
    "mrsDF = titanicDF[titanicDF['first'].str.contains('Mrs.')]\n",
    "\n",
    "# 2 - Do dataframe anterior, fazer o slicing das mulheres casadas que embarcaram em Cherbourg\n",
    "cherbourgDF = mrsDF[mrsDF['embarked'] == 'Cherbourg']\n",
    "\n",
    "# 3 - Contar o número de resultados\n",
    "len(cherbourgDF)"
   ]
  },
  {
   "cell_type": "code",
   "execution_count": 97,
   "metadata": {},
   "outputs": [
    {
     "data": {
      "text/plain": [
       "[27.243651393188795, 59.95414404761905, 13.276029870129872]"
      ]
     },
     "execution_count": 97,
     "metadata": {},
     "output_type": "execute_result"
    }
   ],
   "source": [
    "# Liste a tarifa média paga pelos passageiros em cada uma das cidades de embarque.\n",
    "\n",
    "# 1 - Averiguar quais as diferentes cidades de embarque, através do método unique()\n",
    "titanicDF['embarked'].unique() # 3 cidades: Southampton, Cherbourg e Queenstown\n",
    "\n",
    "# 2 - Calcular as tarifas médias de cada cidade de embraque\n",
    "avg_tarifa_southampton = titanicDF[titanicDF['embarked'] == 'Southampton']['fare'].mean()\n",
    "avg_tarifa_cherbourg = titanicDF[titanicDF['embarked'] == 'Cherbourg']['fare'].mean()\n",
    "avg_tarifa_queenstown = titanicDF[titanicDF['embarked'] == 'Queenstown']['fare'].mean()\n",
    "\n",
    "# 3 - Listagem das tarifas médias de cada cidade de embarque\n",
    "lista_tarifas = [avg_tarifa_southampton, avg_tarifa_cherbourg, avg_tarifa_queenstown]\n",
    "lista_tarifas"
   ]
  },
  {
   "cell_type": "code",
   "execution_count": 98,
   "metadata": {},
   "outputs": [
    {
     "data": {
      "text/plain": [
       "Fraction(59, 297)"
      ]
     },
     "execution_count": 98,
     "metadata": {},
     "output_type": "execute_result"
    }
   ],
   "source": [
    "# Os valores inexistentes (missing)  no Pandas são nulos (null), impressos como 'NaN' e\n",
    "# a function pd.isnull(v) verifica se um valor é nulo.\n",
    "# Que fração dos passageiros não tem valor para a idade?\n",
    "\n",
    "# 1 - Somar, através do método sum(), os valores inexistentes (null) do dataframe\n",
    "idades_nulas = titanicDF['age'].isnull().sum()\n",
    "\n",
    "# 2 - Dividir o número de valores nulos pelo número de linhas do dataframe, obtendo-se a fração de passageiros\n",
    "fração_passageiros = (idades_nulas / len(titanicDF))\n",
    "fração_passageiros\n",
    "\n",
    "# 3 - Opcionalmente, o valor decimal obtido pode ser convertido para fração, importando o módulo Fraction\n",
    "# 4 - Apresentar o resultado em fração irredutível, através do método limit_denominator()\n",
    "from fractions import Fraction\n",
    "Fraction(fração_passageiros).limit_denominator()"
   ]
  }
 ],
 "metadata": {
  "kernelspec": {
   "display_name": "Python 3",
   "language": "python",
   "name": "python3"
  },
  "language_info": {
   "codemirror_mode": {
    "name": "ipython",
    "version": 3
   },
   "file_extension": ".py",
   "mimetype": "text/x-python",
   "name": "python",
   "nbconvert_exporter": "python",
   "pygments_lexer": "ipython3",
   "version": "3.7.6"
  }
 },
 "nbformat": 4,
 "nbformat_minor": 1
}
